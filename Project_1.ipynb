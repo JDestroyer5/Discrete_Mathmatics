{
  "nbformat": 4,
  "nbformat_minor": 0,
  "metadata": {
    "colab": {
      "name": "Project 1.ipynb",
      "provenance": [],
      "authorship_tag": "ABX9TyOfsoUeAXGhbgn76sYq2ewF",
      "include_colab_link": true
    },
    "kernelspec": {
      "name": "python3",
      "display_name": "Python 3"
    },
    "language_info": {
      "name": "python"
    }
  },
  "cells": [
    {
      "cell_type": "markdown",
      "metadata": {
        "id": "view-in-github",
        "colab_type": "text"
      },
      "source": [
        "<a href=\"https://colab.research.google.com/github/JDestroyer5/Discrete_Mathmatics/blob/main/Project_1.ipynb\" target=\"_parent\"><img src=\"https://colab.research.google.com/assets/colab-badge.svg\" alt=\"Open In Colab\"/></a>"
      ]
    },
    {
      "cell_type": "markdown",
      "metadata": {
        "id": "YCJaepmmfKrS"
      },
      "source": [
        "# Project Part # : CPSMA 3133 [Dr. Jacob's](https://github.com/nurfnick) Discrete Mathematics \n",
        "\n",
        "## Sets and Functions: Dinosaurs\n",
        "\n",
        "### Joshua Myers: 252405\n",
        "\n",
        "\n"
      ]
    },
    {
      "cell_type": "markdown",
      "metadata": {
        "id": "Xs_Pvtua1Nnt"
      },
      "source": [
        "## 1 Sets"
      ]
    },
    {
      "cell_type": "markdown",
      "metadata": {
        "id": "2z6U1aB_fQDM"
      },
      "source": [
        "First thing I did was create 4 sets of dinosaurs, A, B, C, and the universal, U. I used mainly commonly known dinosaurs. (Acrocathosaurus is the Oklahoma State Dinosaur, Gojirasaurus is named after Godzilla)"
      ]
    },
    {
      "cell_type": "code",
      "metadata": {
        "id": "c_1OR1ZxLhDL"
      },
      "source": [
        "A = ['Allosaurus', 'T-Rex', 'Therizinosaurus', 'Titanosaurus', 'Triceratops', 'Troodon']\n",
        "B = ['Spinosaurus', 'Stegosaurus', 'Stygimoloch', 'Styracosuarus', 'Suchomimus', 'T-Rex']\n",
        "C = ['Acrocanthosaurus', 'Allosaurus', 'Ankylosaurus', 'Apatosaurus', 'Archaeopteryx', 'Stegosaurus']\n",
        "U = ['Acrocanthosaurus', 'Allosaurus', 'Ankylosaurus', 'Apatosaurus', 'Archaeopteryx','Baryonyx', \n",
        "     'Dilophosaurus', 'Giganotosaurus', 'Gojirasaursus', 'Iguanodon', 'Oviraptor', 'Parasaurolophus',\n",
        "     'Pachycephalosaurus', 'Spinosaurus', 'Stegosaurus','Stygimoloch', 'Styracosuarus', 'Suchomimus',\n",
        "     'T-Rex', 'Therizinosaurus', 'Titanosaurus', 'Triceratops', 'Troodon', 'Velociraptor', \n",
        "     'Yutyrannus']"
      ],
      "execution_count": 17,
      "outputs": []
    },
    {
      "cell_type": "markdown",
      "metadata": {
        "id": "nnou6LHBezTW"
      },
      "source": [
        "Calculating all unions"
      ]
    },
    {
      "cell_type": "code",
      "metadata": {
        "colab": {
          "base_uri": "https://localhost:8080/"
        },
        "id": "SpWaqTjMe6ox",
        "outputId": "6f9f65d4-d8dc-4aef-8b4d-e8828ab6da20"
      },
      "source": [
        "AUB = []\n",
        "for dinosaur in A:\n",
        "  AUB.append(dinosaur)\n",
        "for dinosaur in B:\n",
        "  AUB.append(dinosaur)\n",
        "set(AUB)"
      ],
      "execution_count": 18,
      "outputs": [
        {
          "output_type": "execute_result",
          "data": {
            "text/plain": [
              "{'Allosaurus',\n",
              " 'Spinosaurus',\n",
              " 'Stegosaurus',\n",
              " 'Stygimoloch',\n",
              " 'Styracosuarus',\n",
              " 'Suchomimus',\n",
              " 'T-Rex',\n",
              " 'Therizinosaurus',\n",
              " 'Titanosaurus',\n",
              " 'Triceratops',\n",
              " 'Troodon'}"
            ]
          },
          "metadata": {},
          "execution_count": 18
        }
      ]
    },
    {
      "cell_type": "code",
      "metadata": {
        "colab": {
          "base_uri": "https://localhost:8080/"
        },
        "id": "sN8y4OO6gd4u",
        "outputId": "0bd1dd32-1a21-47fa-d782-f6b6a080b58f"
      },
      "source": [
        "AUC = []\n",
        "for dinosaur in A:\n",
        "  AUC.append(dinosaur)\n",
        "for dinosaur in C:\n",
        "  AUC.append(dinosaur)\n",
        "set(AUC)"
      ],
      "execution_count": 19,
      "outputs": [
        {
          "output_type": "execute_result",
          "data": {
            "text/plain": [
              "{'Acrocanthosaurus',\n",
              " 'Allosaurus',\n",
              " 'Ankylosaurus',\n",
              " 'Apatosaurus',\n",
              " 'Archaeopteryx',\n",
              " 'Stegosaurus',\n",
              " 'T-Rex',\n",
              " 'Therizinosaurus',\n",
              " 'Titanosaurus',\n",
              " 'Triceratops',\n",
              " 'Troodon'}"
            ]
          },
          "metadata": {},
          "execution_count": 19
        }
      ]
    },
    {
      "cell_type": "code",
      "metadata": {
        "colab": {
          "base_uri": "https://localhost:8080/"
        },
        "id": "Pubjxry0gsuM",
        "outputId": "57822e40-549c-482a-8de0-c509725a4fba"
      },
      "source": [
        "BUC = []\n",
        "for dinosaur in B:\n",
        "  BUC.append(dinosaur)\n",
        "for dinosaur in C:\n",
        "  BUC.append(dinosaur)\n",
        "set(BUC)"
      ],
      "execution_count": 20,
      "outputs": [
        {
          "output_type": "execute_result",
          "data": {
            "text/plain": [
              "{'Acrocanthosaurus',\n",
              " 'Allosaurus',\n",
              " 'Ankylosaurus',\n",
              " 'Apatosaurus',\n",
              " 'Archaeopteryx',\n",
              " 'Spinosaurus',\n",
              " 'Stegosaurus',\n",
              " 'Stygimoloch',\n",
              " 'Styracosuarus',\n",
              " 'Suchomimus',\n",
              " 'T-Rex'}"
            ]
          },
          "metadata": {},
          "execution_count": 20
        }
      ]
    },
    {
      "cell_type": "markdown",
      "metadata": {
        "id": "rpMIascng_oF"
      },
      "source": [
        "Calculating all intersections"
      ]
    },
    {
      "cell_type": "code",
      "metadata": {
        "colab": {
          "base_uri": "https://localhost:8080/"
        },
        "id": "kizyVUrbhEln",
        "outputId": "ac021c13-af1e-487b-fcd6-e3b543dedef7"
      },
      "source": [
        "ACapB = []\n",
        "for dinosaur in A:\n",
        "  if dinosaur in B:\n",
        "    ACapB.append(dinosaur)\n",
        "ACapB"
      ],
      "execution_count": 21,
      "outputs": [
        {
          "output_type": "execute_result",
          "data": {
            "text/plain": [
              "['T-Rex']"
            ]
          },
          "metadata": {},
          "execution_count": 21
        }
      ]
    },
    {
      "cell_type": "markdown",
      "metadata": {
        "id": "_7RoPTU_hXG1"
      },
      "source": [
        "## 2 Functions"
      ]
    },
    {
      "cell_type": "code",
      "metadata": {
        "id": "5U5T3Fld5X0S"
      },
      "source": [
        ""
      ],
      "execution_count": null,
      "outputs": []
    }
  ]
}