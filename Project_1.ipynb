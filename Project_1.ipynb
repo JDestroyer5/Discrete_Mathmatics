{
  "nbformat": 4,
  "nbformat_minor": 0,
  "metadata": {
    "colab": {
      "name": "Project 1.ipynb",
      "provenance": [],
      "authorship_tag": "ABX9TyMS35QdoOfGUwk0aSZk3GCq",
      "include_colab_link": true
    },
    "kernelspec": {
      "name": "python3",
      "display_name": "Python 3"
    },
    "language_info": {
      "name": "python"
    }
  },
  "cells": [
    {
      "cell_type": "markdown",
      "metadata": {
        "id": "view-in-github",
        "colab_type": "text"
      },
      "source": [
        "<a href=\"https://colab.research.google.com/github/JDestroyer5/Discrete_Mathmatics/blob/main/Project_1.ipynb\" target=\"_parent\"><img src=\"https://colab.research.google.com/assets/colab-badge.svg\" alt=\"Open In Colab\"/></a>"
      ]
    },
    {
      "cell_type": "markdown",
      "metadata": {
        "id": "YCJaepmmfKrS"
      },
      "source": [
        "# Project Part # : CPSMA 3133 [Dr. Jacob's](https://github.com/nurfnick) Discrete Mathematics \n",
        "\n",
        "## Sets and Functions: Dinosaurs\n",
        "\n",
        "### Joshua Myers: 252405\n",
        "\n",
        "\n"
      ]
    },
    {
      "cell_type": "markdown",
      "metadata": {
        "id": "Xs_Pvtua1Nnt"
      },
      "source": [
        "## 1 Sets"
      ]
    },
    {
      "cell_type": "markdown",
      "metadata": {
        "id": "2z6U1aB_fQDM"
      },
      "source": [
        "(a),(b) The first thing I did was create 4 sets of dinosaurs, A, B, C, and the universal, U. I used mainly commonly known dinosaurs. (Acrocathosaurus is the Oklahoma State Dinosaur, Gojirasaurus is named after Godzilla)"
      ]
    },
    {
      "cell_type": "code",
      "metadata": {
        "id": "c_1OR1ZxLhDL"
      },
      "source": [
        "A = ['Allosaurus', 'T-Rex', 'Therizinosaurus', 'Titanosaurus', 'Triceratops', 'Troodon']\n",
        "B = ['Spinosaurus', 'Stegosaurus', 'Stygimoloch', 'Styracosuarus', 'Suchomimus', 'T-Rex']\n",
        "C = ['Acrocanthosaurus', 'Allosaurus', 'Ankylosaurus', 'Apatosaurus', 'Archaeopteryx', 'Stegosaurus']\n",
        "U = ['Acrocanthosaurus', 'Allosaurus', 'Ankylosaurus', 'Apatosaurus', 'Archaeopteryx','Baryonyx', \n",
        "     'Dilophosaurus', 'Giganotosaurus', 'Gojirasaursus', 'Iguanodon', 'Oviraptor', 'Parasaurolophus',\n",
        "     'Pachycephalosaurus', 'Spinosaurus', 'Stegosaurus','Stygimoloch', 'Styracosuarus', 'Suchomimus',\n",
        "     'T-Rex', 'Therizinosaurus', 'Titanosaurus', 'Triceratops', 'Troodon', 'Velociraptor', \n",
        "     'Yutyrannus']"
      ],
      "execution_count": null,
      "outputs": []
    },
    {
      "cell_type": "markdown",
      "metadata": {
        "id": "nnou6LHBezTW"
      },
      "source": [
        "(C) Calculating all unions"
      ]
    },
    {
      "cell_type": "code",
      "metadata": {
        "colab": {
          "base_uri": "https://localhost:8080/"
        },
        "id": "SpWaqTjMe6ox",
        "outputId": "6f9f65d4-d8dc-4aef-8b4d-e8828ab6da20"
      },
      "source": [
        "AUB = []\n",
        "for dinosaur in A:\n",
        "  AUB.append(dinosaur)\n",
        "for dinosaur in B:\n",
        "  AUB.append(dinosaur)\n",
        "set(AUB)"
      ],
      "execution_count": null,
      "outputs": [
        {
          "output_type": "execute_result",
          "data": {
            "text/plain": [
              "{'Allosaurus',\n",
              " 'Spinosaurus',\n",
              " 'Stegosaurus',\n",
              " 'Stygimoloch',\n",
              " 'Styracosuarus',\n",
              " 'Suchomimus',\n",
              " 'T-Rex',\n",
              " 'Therizinosaurus',\n",
              " 'Titanosaurus',\n",
              " 'Triceratops',\n",
              " 'Troodon'}"
            ]
          },
          "metadata": {},
          "execution_count": 18
        }
      ]
    },
    {
      "cell_type": "code",
      "metadata": {
        "colab": {
          "base_uri": "https://localhost:8080/"
        },
        "id": "sN8y4OO6gd4u",
        "outputId": "0bd1dd32-1a21-47fa-d782-f6b6a080b58f"
      },
      "source": [
        "AUC = []\n",
        "for dinosaur in A:\n",
        "  AUC.append(dinosaur)\n",
        "for dinosaur in C:\n",
        "  AUC.append(dinosaur)\n",
        "set(AUC)"
      ],
      "execution_count": null,
      "outputs": [
        {
          "output_type": "execute_result",
          "data": {
            "text/plain": [
              "{'Acrocanthosaurus',\n",
              " 'Allosaurus',\n",
              " 'Ankylosaurus',\n",
              " 'Apatosaurus',\n",
              " 'Archaeopteryx',\n",
              " 'Stegosaurus',\n",
              " 'T-Rex',\n",
              " 'Therizinosaurus',\n",
              " 'Titanosaurus',\n",
              " 'Triceratops',\n",
              " 'Troodon'}"
            ]
          },
          "metadata": {},
          "execution_count": 19
        }
      ]
    },
    {
      "cell_type": "code",
      "metadata": {
        "colab": {
          "base_uri": "https://localhost:8080/"
        },
        "id": "Pubjxry0gsuM",
        "outputId": "57822e40-549c-482a-8de0-c509725a4fba"
      },
      "source": [
        "BUC = []\n",
        "for dinosaur in B:\n",
        "  BUC.append(dinosaur)\n",
        "for dinosaur in C:\n",
        "  BUC.append(dinosaur)\n",
        "set(BUC)"
      ],
      "execution_count": null,
      "outputs": [
        {
          "output_type": "execute_result",
          "data": {
            "text/plain": [
              "{'Acrocanthosaurus',\n",
              " 'Allosaurus',\n",
              " 'Ankylosaurus',\n",
              " 'Apatosaurus',\n",
              " 'Archaeopteryx',\n",
              " 'Spinosaurus',\n",
              " 'Stegosaurus',\n",
              " 'Stygimoloch',\n",
              " 'Styracosuarus',\n",
              " 'Suchomimus',\n",
              " 'T-Rex'}"
            ]
          },
          "metadata": {},
          "execution_count": 20
        }
      ]
    },
    {
      "cell_type": "markdown",
      "metadata": {
        "id": "rpMIascng_oF"
      },
      "source": [
        "Calculating all intersections"
      ]
    },
    {
      "cell_type": "code",
      "metadata": {
        "colab": {
          "base_uri": "https://localhost:8080/"
        },
        "id": "kizyVUrbhEln",
        "outputId": "ac021c13-af1e-487b-fcd6-e3b543dedef7"
      },
      "source": [
        "ACapB = []\n",
        "for dinosaur in A:\n",
        "  if dinosaur in B:\n",
        "    ACapB.append(dinosaur)\n",
        "ACapB"
      ],
      "execution_count": null,
      "outputs": [
        {
          "output_type": "execute_result",
          "data": {
            "text/plain": [
              "['T-Rex']"
            ]
          },
          "metadata": {},
          "execution_count": 21
        }
      ]
    },
    {
      "cell_type": "code",
      "metadata": {
        "id": "xbm3BX-slfAs",
        "outputId": "bd1bc49b-edd8-4396-fb0f-452163633c78",
        "colab": {
          "base_uri": "https://localhost:8080/"
        }
      },
      "source": [
        "ACapC = []\n",
        "for dinosaur in A:\n",
        "  if dinosaur in C:\n",
        "    ACapC.append(dinosaur)\n",
        "ACapC"
      ],
      "execution_count": 22,
      "outputs": [
        {
          "output_type": "execute_result",
          "data": {
            "text/plain": [
              "['Allosaurus']"
            ]
          },
          "metadata": {},
          "execution_count": 22
        }
      ]
    },
    {
      "cell_type": "code",
      "metadata": {
        "id": "OBXPseWJlf_8",
        "outputId": "aa659cff-48fb-410e-a733-6ffd48a2bb4c",
        "colab": {
          "base_uri": "https://localhost:8080/"
        }
      },
      "source": [
        "BCapC = []\n",
        "for dinosaur in B:\n",
        "  if dinosaur in C:\n",
        "    BCapC.append(dinosaur)\n",
        "BCapC"
      ],
      "execution_count": 23,
      "outputs": [
        {
          "output_type": "execute_result",
          "data": {
            "text/plain": [
              "['Stegosaurus']"
            ]
          },
          "metadata": {},
          "execution_count": 23
        }
      ]
    },
    {
      "cell_type": "markdown",
      "metadata": {
        "id": "zvnn3hqbl6U3"
      },
      "source": [
        "(d) Calculating the complements"
      ]
    },
    {
      "cell_type": "code",
      "metadata": {
        "id": "dWABQgAWl-xq",
        "outputId": "6b6abf64-8bdc-4416-e796-1ba1e1b99f71",
        "colab": {
          "base_uri": "https://localhost:8080/"
        }
      },
      "source": [
        "AComplement = []\n",
        "for dinosaur in U:\n",
        "  if dinosaur not in A:\n",
        "    AComplement.append(dinosaur)\n",
        "AComplement"
      ],
      "execution_count": 24,
      "outputs": [
        {
          "output_type": "execute_result",
          "data": {
            "text/plain": [
              "['Acrocanthosaurus',\n",
              " 'Ankylosaurus',\n",
              " 'Apatosaurus',\n",
              " 'Archaeopteryx',\n",
              " 'Baryonyx',\n",
              " 'Dilophosaurus',\n",
              " 'Giganotosaurus',\n",
              " 'Gojirasaursus',\n",
              " 'Iguanodon',\n",
              " 'Oviraptor',\n",
              " 'Parasaurolophus',\n",
              " 'Pachycephalosaurus',\n",
              " 'Spinosaurus',\n",
              " 'Stegosaurus',\n",
              " 'Stygimoloch',\n",
              " 'Styracosuarus',\n",
              " 'Suchomimus',\n",
              " 'Velociraptor',\n",
              " 'Yutyrannus']"
            ]
          },
          "metadata": {},
          "execution_count": 24
        }
      ]
    },
    {
      "cell_type": "code",
      "metadata": {
        "id": "Ilh6bBeWmbRO",
        "outputId": "89f61a1c-1900-4bae-f94e-f4c92552fb86",
        "colab": {
          "base_uri": "https://localhost:8080/"
        }
      },
      "source": [
        "BComplement = []\n",
        "for dinosaur in U:\n",
        "  if dinosaur not in B:\n",
        "    BComplement.append(dinosaur)\n",
        "BComplement"
      ],
      "execution_count": 25,
      "outputs": [
        {
          "output_type": "execute_result",
          "data": {
            "text/plain": [
              "['Acrocanthosaurus',\n",
              " 'Allosaurus',\n",
              " 'Ankylosaurus',\n",
              " 'Apatosaurus',\n",
              " 'Archaeopteryx',\n",
              " 'Baryonyx',\n",
              " 'Dilophosaurus',\n",
              " 'Giganotosaurus',\n",
              " 'Gojirasaursus',\n",
              " 'Iguanodon',\n",
              " 'Oviraptor',\n",
              " 'Parasaurolophus',\n",
              " 'Pachycephalosaurus',\n",
              " 'Therizinosaurus',\n",
              " 'Titanosaurus',\n",
              " 'Triceratops',\n",
              " 'Troodon',\n",
              " 'Velociraptor',\n",
              " 'Yutyrannus']"
            ]
          },
          "metadata": {},
          "execution_count": 25
        }
      ]
    },
    {
      "cell_type": "code",
      "metadata": {
        "id": "O9-N2ajcmblx",
        "outputId": "2c342347-c1d9-4e17-f127-0782a0bc9016",
        "colab": {
          "base_uri": "https://localhost:8080/"
        }
      },
      "source": [
        "CComplement = []\n",
        "for dinosaur in U:\n",
        "  if dinosaur not in C:\n",
        "    CComplement.append(dinosaur)\n",
        "CComplement"
      ],
      "execution_count": 26,
      "outputs": [
        {
          "output_type": "execute_result",
          "data": {
            "text/plain": [
              "['Baryonyx',\n",
              " 'Dilophosaurus',\n",
              " 'Giganotosaurus',\n",
              " 'Gojirasaursus',\n",
              " 'Iguanodon',\n",
              " 'Oviraptor',\n",
              " 'Parasaurolophus',\n",
              " 'Pachycephalosaurus',\n",
              " 'Spinosaurus',\n",
              " 'Stygimoloch',\n",
              " 'Styracosuarus',\n",
              " 'Suchomimus',\n",
              " 'T-Rex',\n",
              " 'Therizinosaurus',\n",
              " 'Titanosaurus',\n",
              " 'Triceratops',\n",
              " 'Troodon',\n",
              " 'Velociraptor',\n",
              " 'Yutyrannus']"
            ]
          },
          "metadata": {},
          "execution_count": 26
        }
      ]
    },
    {
      "cell_type": "markdown",
      "metadata": {
        "id": "hdVbvgf9uBdk"
      },
      "source": [
        "(e) Are any sunsets?: All are subsets of U. Only the intersections are subsets of A, B, or C"
      ]
    },
    {
      "cell_type": "markdown",
      "metadata": {
        "id": "qsTXzD5loQJC"
      },
      "source": [
        "(f) Creating the powerset of set A. It has 2^6 or 64 elements. The powerset of U would have 2^25 or 33,554,432 elements."
      ]
    },
    {
      "cell_type": "code",
      "metadata": {
        "id": "y4nHwUydobK-",
        "outputId": "94bc01d0-57a6-4f68-d5f5-cbd5b2dec6e1",
        "colab": {
          "base_uri": "https://localhost:8080/"
        }
      },
      "source": [
        "def DPpowerset(s):\n",
        "  powerset = [[]]\n",
        "  for i in s:\n",
        "    for sett in powerset:\n",
        "      powerset = powerset + [sett + [i]]\n",
        "  return powerset\n",
        "\n",
        "DPpowerset(A)"
      ],
      "execution_count": 27,
      "outputs": [
        {
          "output_type": "execute_result",
          "data": {
            "text/plain": [
              "[[],\n",
              " ['Allosaurus'],\n",
              " ['T-Rex'],\n",
              " ['Allosaurus', 'T-Rex'],\n",
              " ['Therizinosaurus'],\n",
              " ['Allosaurus', 'Therizinosaurus'],\n",
              " ['T-Rex', 'Therizinosaurus'],\n",
              " ['Allosaurus', 'T-Rex', 'Therizinosaurus'],\n",
              " ['Titanosaurus'],\n",
              " ['Allosaurus', 'Titanosaurus'],\n",
              " ['T-Rex', 'Titanosaurus'],\n",
              " ['Allosaurus', 'T-Rex', 'Titanosaurus'],\n",
              " ['Therizinosaurus', 'Titanosaurus'],\n",
              " ['Allosaurus', 'Therizinosaurus', 'Titanosaurus'],\n",
              " ['T-Rex', 'Therizinosaurus', 'Titanosaurus'],\n",
              " ['Allosaurus', 'T-Rex', 'Therizinosaurus', 'Titanosaurus'],\n",
              " ['Triceratops'],\n",
              " ['Allosaurus', 'Triceratops'],\n",
              " ['T-Rex', 'Triceratops'],\n",
              " ['Allosaurus', 'T-Rex', 'Triceratops'],\n",
              " ['Therizinosaurus', 'Triceratops'],\n",
              " ['Allosaurus', 'Therizinosaurus', 'Triceratops'],\n",
              " ['T-Rex', 'Therizinosaurus', 'Triceratops'],\n",
              " ['Allosaurus', 'T-Rex', 'Therizinosaurus', 'Triceratops'],\n",
              " ['Titanosaurus', 'Triceratops'],\n",
              " ['Allosaurus', 'Titanosaurus', 'Triceratops'],\n",
              " ['T-Rex', 'Titanosaurus', 'Triceratops'],\n",
              " ['Allosaurus', 'T-Rex', 'Titanosaurus', 'Triceratops'],\n",
              " ['Therizinosaurus', 'Titanosaurus', 'Triceratops'],\n",
              " ['Allosaurus', 'Therizinosaurus', 'Titanosaurus', 'Triceratops'],\n",
              " ['T-Rex', 'Therizinosaurus', 'Titanosaurus', 'Triceratops'],\n",
              " ['Allosaurus', 'T-Rex', 'Therizinosaurus', 'Titanosaurus', 'Triceratops'],\n",
              " ['Troodon'],\n",
              " ['Allosaurus', 'Troodon'],\n",
              " ['T-Rex', 'Troodon'],\n",
              " ['Allosaurus', 'T-Rex', 'Troodon'],\n",
              " ['Therizinosaurus', 'Troodon'],\n",
              " ['Allosaurus', 'Therizinosaurus', 'Troodon'],\n",
              " ['T-Rex', 'Therizinosaurus', 'Troodon'],\n",
              " ['Allosaurus', 'T-Rex', 'Therizinosaurus', 'Troodon'],\n",
              " ['Titanosaurus', 'Troodon'],\n",
              " ['Allosaurus', 'Titanosaurus', 'Troodon'],\n",
              " ['T-Rex', 'Titanosaurus', 'Troodon'],\n",
              " ['Allosaurus', 'T-Rex', 'Titanosaurus', 'Troodon'],\n",
              " ['Therizinosaurus', 'Titanosaurus', 'Troodon'],\n",
              " ['Allosaurus', 'Therizinosaurus', 'Titanosaurus', 'Troodon'],\n",
              " ['T-Rex', 'Therizinosaurus', 'Titanosaurus', 'Troodon'],\n",
              " ['Allosaurus', 'T-Rex', 'Therizinosaurus', 'Titanosaurus', 'Troodon'],\n",
              " ['Triceratops', 'Troodon'],\n",
              " ['Allosaurus', 'Triceratops', 'Troodon'],\n",
              " ['T-Rex', 'Triceratops', 'Troodon'],\n",
              " ['Allosaurus', 'T-Rex', 'Triceratops', 'Troodon'],\n",
              " ['Therizinosaurus', 'Triceratops', 'Troodon'],\n",
              " ['Allosaurus', 'Therizinosaurus', 'Triceratops', 'Troodon'],\n",
              " ['T-Rex', 'Therizinosaurus', 'Triceratops', 'Troodon'],\n",
              " ['Allosaurus', 'T-Rex', 'Therizinosaurus', 'Triceratops', 'Troodon'],\n",
              " ['Titanosaurus', 'Triceratops', 'Troodon'],\n",
              " ['Allosaurus', 'Titanosaurus', 'Triceratops', 'Troodon'],\n",
              " ['T-Rex', 'Titanosaurus', 'Triceratops', 'Troodon'],\n",
              " ['Allosaurus', 'T-Rex', 'Titanosaurus', 'Triceratops', 'Troodon'],\n",
              " ['Therizinosaurus', 'Titanosaurus', 'Triceratops', 'Troodon'],\n",
              " ['Allosaurus', 'Therizinosaurus', 'Titanosaurus', 'Triceratops', 'Troodon'],\n",
              " ['T-Rex', 'Therizinosaurus', 'Titanosaurus', 'Triceratops', 'Troodon'],\n",
              " ['Allosaurus',\n",
              "  'T-Rex',\n",
              "  'Therizinosaurus',\n",
              "  'Titanosaurus',\n",
              "  'Triceratops',\n",
              "  'Troodon']]"
            ]
          },
          "metadata": {},
          "execution_count": 27
        }
      ]
    },
    {
      "cell_type": "markdown",
      "metadata": {
        "id": "_7RoPTU_hXG1"
      },
      "source": [
        "## 2 Functions"
      ]
    },
    {
      "cell_type": "markdown",
      "metadata": {
        "id": "AWRrEi-Fuiwz"
      },
      "source": [
        "(a) Defining a function."
      ]
    },
    {
      "cell_type": "code",
      "metadata": {
        "id": "5U5T3Fld5X0S"
      },
      "source": [
        ""
      ],
      "execution_count": null,
      "outputs": []
    }
  ]
}