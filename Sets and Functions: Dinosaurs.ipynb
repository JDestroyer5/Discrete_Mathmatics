{
  "nbformat": 4,
  "nbformat_minor": 0,
  "metadata": {
    "colab": {
      "name": "Project 1.ipynb",
      "provenance": [],
      "authorship_tag": "ABX9TyOsqbmMYd1YciAVScL0+ngt",
      "include_colab_link": true
    },
    "kernelspec": {
      "name": "python3",
      "display_name": "Python 3"
    },
    "language_info": {
      "name": "python"
    }
  },
  "cells": [
    {
      "cell_type": "markdown",
      "metadata": {
        "id": "view-in-github",
        "colab_type": "text"
      },
      "source": [
        "<a href=\"https://colab.research.google.com/github/JDestroyer5/Discrete_Mathmatics/blob/main/Sets%20and%20Functions%3A%20Dinosaurs.ipynb\" target=\"_parent\"><img src=\"https://colab.research.google.com/assets/colab-badge.svg\" alt=\"Open In Colab\"/></a>"
      ]
    },
    {
      "cell_type": "markdown",
      "metadata": {
        "id": "YCJaepmmfKrS"
      },
      "source": [
        "# Project Part # : CPSMA 3133 [Dr. Jacob's](https://github.com/nurfnick) Discrete Mathematics \n",
        "\n",
        "## Sets and Functions: Dinosaurs\n",
        "\n",
        "### Joshua Myers: 252405\n",
        "\n",
        "\n"
      ]
    },
    {
      "cell_type": "markdown",
      "metadata": {
        "id": "Xs_Pvtua1Nnt"
      },
      "source": [
        "## 1 Sets"
      ]
    },
    {
      "cell_type": "markdown",
      "metadata": {
        "id": "2z6U1aB_fQDM"
      },
      "source": [
        "(a),(b) The first thing I did was create 4 sets of dinosaurs, A, B, C, and the universal, U. I used mainly commonly known dinosaurs. (Acrocathosaurus is the Oklahoma State Dinosaur, Gojirasaurus is named after Godzilla)"
      ]
    },
    {
      "cell_type": "code",
      "metadata": {
        "id": "c_1OR1ZxLhDL"
      },
      "source": [
        "A = ['Allosaurus', 'T-Rex', 'Therizinosaurus', 'Titanosaurus', 'Triceratops', 'Troodon']\n",
        "B = ['Spinosaurus', 'Stegosaurus', 'Stygimoloch', 'Styracosuarus', 'Suchomimus', 'T-Rex']\n",
        "C = ['Acrocanthosaurus', 'Allosaurus', 'Ankylosaurus', 'Apatosaurus', 'Archaeopteryx', 'Stegosaurus']\n",
        "U = ['Acrocanthosaurus', 'Allosaurus', 'Ankylosaurus', 'Apatosaurus', 'Archaeopteryx','Baryonyx', \n",
        "     'Dilophosaurus', 'Giganotosaurus', 'Gojirasaursus', 'Iguanodon', 'Oviraptor', 'Parasaurolophus',\n",
        "     'Pachycephalosaurus', 'Spinosaurus', 'Stegosaurus','Stygimoloch', 'Styracosuarus', 'Suchomimus',\n",
        "     'T-Rex', 'Therizinosaurus', 'Titanosaurus', 'Triceratops', 'Troodon', 'Velociraptor', \n",
        "     'Yutyrannus']"
      ],
      "execution_count": 24,
      "outputs": []
    },
    {
      "cell_type": "markdown",
      "metadata": {
        "id": "nnou6LHBezTW"
      },
      "source": [
        "(C) Calculating all unions"
      ]
    },
    {
      "cell_type": "code",
      "metadata": {
        "colab": {
          "base_uri": "https://localhost:8080/"
        },
        "id": "SpWaqTjMe6ox",
        "outputId": "e4186ab9-c489-4578-b5ed-b6abfb0c93a9"
      },
      "source": [
        "AUB = []\n",
        "for dinosaur in A:\n",
        "  AUB.append(dinosaur)\n",
        "for dinosaur in B:\n",
        "  AUB.append(dinosaur)\n",
        "set(AUB)"
      ],
      "execution_count": 25,
      "outputs": [
        {
          "output_type": "execute_result",
          "data": {
            "text/plain": [
              "{'Allosaurus',\n",
              " 'Spinosaurus',\n",
              " 'Stegosaurus',\n",
              " 'Stygimoloch',\n",
              " 'Styracosuarus',\n",
              " 'Suchomimus',\n",
              " 'T-Rex',\n",
              " 'Therizinosaurus',\n",
              " 'Titanosaurus',\n",
              " 'Triceratops',\n",
              " 'Troodon'}"
            ]
          },
          "metadata": {},
          "execution_count": 25
        }
      ]
    },
    {
      "cell_type": "code",
      "metadata": {
        "colab": {
          "base_uri": "https://localhost:8080/"
        },
        "id": "sN8y4OO6gd4u",
        "outputId": "43b84e0c-c424-4ae8-f44d-27513d5d1dba"
      },
      "source": [
        "AUC = []\n",
        "for dinosaur in A:\n",
        "  AUC.append(dinosaur)\n",
        "for dinosaur in C:\n",
        "  AUC.append(dinosaur)\n",
        "set(AUC)"
      ],
      "execution_count": 26,
      "outputs": [
        {
          "output_type": "execute_result",
          "data": {
            "text/plain": [
              "{'Acrocanthosaurus',\n",
              " 'Allosaurus',\n",
              " 'Ankylosaurus',\n",
              " 'Apatosaurus',\n",
              " 'Archaeopteryx',\n",
              " 'Stegosaurus',\n",
              " 'T-Rex',\n",
              " 'Therizinosaurus',\n",
              " 'Titanosaurus',\n",
              " 'Triceratops',\n",
              " 'Troodon'}"
            ]
          },
          "metadata": {},
          "execution_count": 26
        }
      ]
    },
    {
      "cell_type": "code",
      "metadata": {
        "colab": {
          "base_uri": "https://localhost:8080/"
        },
        "id": "Pubjxry0gsuM",
        "outputId": "1edc4e68-f47b-454f-9979-ced4bbd76fce"
      },
      "source": [
        "BUC = []\n",
        "for dinosaur in B:\n",
        "  BUC.append(dinosaur)\n",
        "for dinosaur in C:\n",
        "  BUC.append(dinosaur)\n",
        "set(BUC)"
      ],
      "execution_count": 27,
      "outputs": [
        {
          "output_type": "execute_result",
          "data": {
            "text/plain": [
              "{'Acrocanthosaurus',\n",
              " 'Allosaurus',\n",
              " 'Ankylosaurus',\n",
              " 'Apatosaurus',\n",
              " 'Archaeopteryx',\n",
              " 'Spinosaurus',\n",
              " 'Stegosaurus',\n",
              " 'Stygimoloch',\n",
              " 'Styracosuarus',\n",
              " 'Suchomimus',\n",
              " 'T-Rex'}"
            ]
          },
          "metadata": {},
          "execution_count": 27
        }
      ]
    },
    {
      "cell_type": "markdown",
      "metadata": {
        "id": "rpMIascng_oF"
      },
      "source": [
        "Calculating all intersections"
      ]
    },
    {
      "cell_type": "code",
      "metadata": {
        "colab": {
          "base_uri": "https://localhost:8080/"
        },
        "id": "kizyVUrbhEln",
        "outputId": "4491f28e-64aa-4659-d5c0-e2fa9dc29d45"
      },
      "source": [
        "ACapB = []\n",
        "for dinosaur in A:\n",
        "  if dinosaur in B:\n",
        "    ACapB.append(dinosaur)\n",
        "ACapB"
      ],
      "execution_count": 28,
      "outputs": [
        {
          "output_type": "execute_result",
          "data": {
            "text/plain": [
              "['T-Rex']"
            ]
          },
          "metadata": {},
          "execution_count": 28
        }
      ]
    },
    {
      "cell_type": "code",
      "metadata": {
        "colab": {
          "base_uri": "https://localhost:8080/"
        },
        "id": "xbm3BX-slfAs",
        "outputId": "08787580-c9cb-4bac-bc4f-970727907ec1"
      },
      "source": [
        "ACapC = []\n",
        "for dinosaur in A:\n",
        "  if dinosaur in C:\n",
        "    ACapC.append(dinosaur)\n",
        "ACapC"
      ],
      "execution_count": 29,
      "outputs": [
        {
          "output_type": "execute_result",
          "data": {
            "text/plain": [
              "['Allosaurus']"
            ]
          },
          "metadata": {},
          "execution_count": 29
        }
      ]
    },
    {
      "cell_type": "code",
      "metadata": {
        "colab": {
          "base_uri": "https://localhost:8080/"
        },
        "id": "OBXPseWJlf_8",
        "outputId": "2ed65a42-201f-4cd2-f364-b490b288ea55"
      },
      "source": [
        "BCapC = []\n",
        "for dinosaur in B:\n",
        "  if dinosaur in C:\n",
        "    BCapC.append(dinosaur)\n",
        "BCapC"
      ],
      "execution_count": 30,
      "outputs": [
        {
          "output_type": "execute_result",
          "data": {
            "text/plain": [
              "['Stegosaurus']"
            ]
          },
          "metadata": {},
          "execution_count": 30
        }
      ]
    },
    {
      "cell_type": "markdown",
      "metadata": {
        "id": "zvnn3hqbl6U3"
      },
      "source": [
        "(d) Calculating the complements"
      ]
    },
    {
      "cell_type": "code",
      "metadata": {
        "colab": {
          "base_uri": "https://localhost:8080/"
        },
        "id": "dWABQgAWl-xq",
        "outputId": "5bebdc7c-5823-4e19-bf4c-cdcd04892671"
      },
      "source": [
        "AComplement = []\n",
        "for dinosaur in U:\n",
        "  if dinosaur not in A:\n",
        "    AComplement.append(dinosaur)\n",
        "AComplement"
      ],
      "execution_count": 31,
      "outputs": [
        {
          "output_type": "execute_result",
          "data": {
            "text/plain": [
              "['Acrocanthosaurus',\n",
              " 'Ankylosaurus',\n",
              " 'Apatosaurus',\n",
              " 'Archaeopteryx',\n",
              " 'Baryonyx',\n",
              " 'Dilophosaurus',\n",
              " 'Giganotosaurus',\n",
              " 'Gojirasaursus',\n",
              " 'Iguanodon',\n",
              " 'Oviraptor',\n",
              " 'Parasaurolophus',\n",
              " 'Pachycephalosaurus',\n",
              " 'Spinosaurus',\n",
              " 'Stegosaurus',\n",
              " 'Stygimoloch',\n",
              " 'Styracosuarus',\n",
              " 'Suchomimus',\n",
              " 'Velociraptor',\n",
              " 'Yutyrannus']"
            ]
          },
          "metadata": {},
          "execution_count": 31
        }
      ]
    },
    {
      "cell_type": "code",
      "metadata": {
        "colab": {
          "base_uri": "https://localhost:8080/"
        },
        "id": "Ilh6bBeWmbRO",
        "outputId": "ca87e15c-47c6-446d-9d3c-7fdc6f41981b"
      },
      "source": [
        "BComplement = []\n",
        "for dinosaur in U:\n",
        "  if dinosaur not in B:\n",
        "    BComplement.append(dinosaur)\n",
        "BComplement"
      ],
      "execution_count": 32,
      "outputs": [
        {
          "output_type": "execute_result",
          "data": {
            "text/plain": [
              "['Acrocanthosaurus',\n",
              " 'Allosaurus',\n",
              " 'Ankylosaurus',\n",
              " 'Apatosaurus',\n",
              " 'Archaeopteryx',\n",
              " 'Baryonyx',\n",
              " 'Dilophosaurus',\n",
              " 'Giganotosaurus',\n",
              " 'Gojirasaursus',\n",
              " 'Iguanodon',\n",
              " 'Oviraptor',\n",
              " 'Parasaurolophus',\n",
              " 'Pachycephalosaurus',\n",
              " 'Therizinosaurus',\n",
              " 'Titanosaurus',\n",
              " 'Triceratops',\n",
              " 'Troodon',\n",
              " 'Velociraptor',\n",
              " 'Yutyrannus']"
            ]
          },
          "metadata": {},
          "execution_count": 32
        }
      ]
    },
    {
      "cell_type": "code",
      "metadata": {
        "colab": {
          "base_uri": "https://localhost:8080/"
        },
        "id": "O9-N2ajcmblx",
        "outputId": "16cc71a8-7222-4ec8-feda-ae17bf845c77"
      },
      "source": [
        "CComplement = []\n",
        "for dinosaur in U:\n",
        "  if dinosaur not in C:\n",
        "    CComplement.append(dinosaur)\n",
        "CComplement"
      ],
      "execution_count": 33,
      "outputs": [
        {
          "output_type": "execute_result",
          "data": {
            "text/plain": [
              "['Baryonyx',\n",
              " 'Dilophosaurus',\n",
              " 'Giganotosaurus',\n",
              " 'Gojirasaursus',\n",
              " 'Iguanodon',\n",
              " 'Oviraptor',\n",
              " 'Parasaurolophus',\n",
              " 'Pachycephalosaurus',\n",
              " 'Spinosaurus',\n",
              " 'Stygimoloch',\n",
              " 'Styracosuarus',\n",
              " 'Suchomimus',\n",
              " 'T-Rex',\n",
              " 'Therizinosaurus',\n",
              " 'Titanosaurus',\n",
              " 'Triceratops',\n",
              " 'Troodon',\n",
              " 'Velociraptor',\n",
              " 'Yutyrannus']"
            ]
          },
          "metadata": {},
          "execution_count": 33
        }
      ]
    },
    {
      "cell_type": "markdown",
      "metadata": {
        "id": "hdVbvgf9uBdk"
      },
      "source": [
        "(e) Are any sunsets?: All are subsets of U. Only the intersections are subsets of A, B, or C"
      ]
    },
    {
      "cell_type": "markdown",
      "metadata": {
        "id": "qsTXzD5loQJC"
      },
      "source": [
        "(f) Creating the powerset of set A. It has 2^6 or 64 elements. The powerset of U would have 2^25 or 33,554,432 elements."
      ]
    },
    {
      "cell_type": "code",
      "metadata": {
        "colab": {
          "base_uri": "https://localhost:8080/"
        },
        "id": "y4nHwUydobK-",
        "outputId": "ca7b3581-0742-4834-fd92-16576d8ea29e"
      },
      "source": [
        "def DPpowerset(s):\n",
        "  powerset = [[]]\n",
        "  for i in s:\n",
        "    for sett in powerset:\n",
        "      powerset = powerset + [sett + [i]]\n",
        "  return powerset\n",
        "\n",
        "DPpowerset(A)"
      ],
      "execution_count": 34,
      "outputs": [
        {
          "output_type": "execute_result",
          "data": {
            "text/plain": [
              "[[],\n",
              " ['Allosaurus'],\n",
              " ['T-Rex'],\n",
              " ['Allosaurus', 'T-Rex'],\n",
              " ['Therizinosaurus'],\n",
              " ['Allosaurus', 'Therizinosaurus'],\n",
              " ['T-Rex', 'Therizinosaurus'],\n",
              " ['Allosaurus', 'T-Rex', 'Therizinosaurus'],\n",
              " ['Titanosaurus'],\n",
              " ['Allosaurus', 'Titanosaurus'],\n",
              " ['T-Rex', 'Titanosaurus'],\n",
              " ['Allosaurus', 'T-Rex', 'Titanosaurus'],\n",
              " ['Therizinosaurus', 'Titanosaurus'],\n",
              " ['Allosaurus', 'Therizinosaurus', 'Titanosaurus'],\n",
              " ['T-Rex', 'Therizinosaurus', 'Titanosaurus'],\n",
              " ['Allosaurus', 'T-Rex', 'Therizinosaurus', 'Titanosaurus'],\n",
              " ['Triceratops'],\n",
              " ['Allosaurus', 'Triceratops'],\n",
              " ['T-Rex', 'Triceratops'],\n",
              " ['Allosaurus', 'T-Rex', 'Triceratops'],\n",
              " ['Therizinosaurus', 'Triceratops'],\n",
              " ['Allosaurus', 'Therizinosaurus', 'Triceratops'],\n",
              " ['T-Rex', 'Therizinosaurus', 'Triceratops'],\n",
              " ['Allosaurus', 'T-Rex', 'Therizinosaurus', 'Triceratops'],\n",
              " ['Titanosaurus', 'Triceratops'],\n",
              " ['Allosaurus', 'Titanosaurus', 'Triceratops'],\n",
              " ['T-Rex', 'Titanosaurus', 'Triceratops'],\n",
              " ['Allosaurus', 'T-Rex', 'Titanosaurus', 'Triceratops'],\n",
              " ['Therizinosaurus', 'Titanosaurus', 'Triceratops'],\n",
              " ['Allosaurus', 'Therizinosaurus', 'Titanosaurus', 'Triceratops'],\n",
              " ['T-Rex', 'Therizinosaurus', 'Titanosaurus', 'Triceratops'],\n",
              " ['Allosaurus', 'T-Rex', 'Therizinosaurus', 'Titanosaurus', 'Triceratops'],\n",
              " ['Troodon'],\n",
              " ['Allosaurus', 'Troodon'],\n",
              " ['T-Rex', 'Troodon'],\n",
              " ['Allosaurus', 'T-Rex', 'Troodon'],\n",
              " ['Therizinosaurus', 'Troodon'],\n",
              " ['Allosaurus', 'Therizinosaurus', 'Troodon'],\n",
              " ['T-Rex', 'Therizinosaurus', 'Troodon'],\n",
              " ['Allosaurus', 'T-Rex', 'Therizinosaurus', 'Troodon'],\n",
              " ['Titanosaurus', 'Troodon'],\n",
              " ['Allosaurus', 'Titanosaurus', 'Troodon'],\n",
              " ['T-Rex', 'Titanosaurus', 'Troodon'],\n",
              " ['Allosaurus', 'T-Rex', 'Titanosaurus', 'Troodon'],\n",
              " ['Therizinosaurus', 'Titanosaurus', 'Troodon'],\n",
              " ['Allosaurus', 'Therizinosaurus', 'Titanosaurus', 'Troodon'],\n",
              " ['T-Rex', 'Therizinosaurus', 'Titanosaurus', 'Troodon'],\n",
              " ['Allosaurus', 'T-Rex', 'Therizinosaurus', 'Titanosaurus', 'Troodon'],\n",
              " ['Triceratops', 'Troodon'],\n",
              " ['Allosaurus', 'Triceratops', 'Troodon'],\n",
              " ['T-Rex', 'Triceratops', 'Troodon'],\n",
              " ['Allosaurus', 'T-Rex', 'Triceratops', 'Troodon'],\n",
              " ['Therizinosaurus', 'Triceratops', 'Troodon'],\n",
              " ['Allosaurus', 'Therizinosaurus', 'Triceratops', 'Troodon'],\n",
              " ['T-Rex', 'Therizinosaurus', 'Triceratops', 'Troodon'],\n",
              " ['Allosaurus', 'T-Rex', 'Therizinosaurus', 'Triceratops', 'Troodon'],\n",
              " ['Titanosaurus', 'Triceratops', 'Troodon'],\n",
              " ['Allosaurus', 'Titanosaurus', 'Triceratops', 'Troodon'],\n",
              " ['T-Rex', 'Titanosaurus', 'Triceratops', 'Troodon'],\n",
              " ['Allosaurus', 'T-Rex', 'Titanosaurus', 'Triceratops', 'Troodon'],\n",
              " ['Therizinosaurus', 'Titanosaurus', 'Triceratops', 'Troodon'],\n",
              " ['Allosaurus', 'Therizinosaurus', 'Titanosaurus', 'Triceratops', 'Troodon'],\n",
              " ['T-Rex', 'Therizinosaurus', 'Titanosaurus', 'Triceratops', 'Troodon'],\n",
              " ['Allosaurus',\n",
              "  'T-Rex',\n",
              "  'Therizinosaurus',\n",
              "  'Titanosaurus',\n",
              "  'Triceratops',\n",
              "  'Troodon']]"
            ]
          },
          "metadata": {},
          "execution_count": 34
        }
      ]
    },
    {
      "cell_type": "markdown",
      "metadata": {
        "id": "_7RoPTU_hXG1"
      },
      "source": [
        "## 2 Functions"
      ]
    },
    {
      "cell_type": "markdown",
      "metadata": {
        "id": "AWRrEi-Fuiwz"
      },
      "source": [
        "(a) Defining a function. I will be using the math, numpy, and matplotlib libraries to define the function, the inverse, and to plot"
      ]
    },
    {
      "cell_type": "markdown",
      "metadata": {
        "id": "31mWx9-ldNXu"
      },
      "source": [
        "function \n",
        "$$\n",
        "f(x) = \\frac{x}{π}*\\frac{\\sqrt{2π}}{e}\n",
        "$$\n"
      ]
    },
    {
      "cell_type": "code",
      "metadata": {
        "id": "5U5T3Fld5X0S"
      },
      "source": [
        "import math\n",
        "import numpy as np\n",
        "\n",
        "def fun(x):\n",
        "  return ((x/math.pi)*(math.sqrt(2*math.pi))/(np.e))"
      ],
      "execution_count": 35,
      "outputs": []
    },
    {
      "cell_type": "markdown",
      "metadata": {
        "id": "6UpC__oXuHkV"
      },
      "source": [
        "testing"
      ]
    },
    {
      "cell_type": "code",
      "metadata": {
        "id": "o0MGxUQatX1_",
        "colab": {
          "base_uri": "https://localhost:8080/"
        },
        "outputId": "ce9c5a4a-1475-4c44-e434-469843a75b76"
      },
      "source": [
        "fun(0)"
      ],
      "execution_count": 36,
      "outputs": [
        {
          "output_type": "execute_result",
          "data": {
            "text/plain": [
              "0.0"
            ]
          },
          "metadata": {},
          "execution_count": 36
        }
      ]
    },
    {
      "cell_type": "code",
      "metadata": {
        "id": "Fu0fdrdWuBjD",
        "colab": {
          "base_uri": "https://localhost:8080/"
        },
        "outputId": "2d4fc01d-27f3-4dcf-e22c-bc6d6d32a99d"
      },
      "source": [
        "fun(5)"
      ],
      "execution_count": 37,
      "outputs": [
        {
          "output_type": "execute_result",
          "data": {
            "text/plain": [
              "1.4676266317373992"
            ]
          },
          "metadata": {},
          "execution_count": 37
        }
      ]
    },
    {
      "cell_type": "code",
      "metadata": {
        "id": "glpcC0x0uD47",
        "colab": {
          "base_uri": "https://localhost:8080/"
        },
        "outputId": "4ddfa495-cfeb-4ea4-c6ba-d52c02786555"
      },
      "source": [
        "fun(10)"
      ],
      "execution_count": 38,
      "outputs": [
        {
          "output_type": "execute_result",
          "data": {
            "text/plain": [
              "2.9352532634747983"
            ]
          },
          "metadata": {},
          "execution_count": 38
        }
      ]
    },
    {
      "cell_type": "markdown",
      "metadata": {
        "id": "Hb9N44Et-gHN"
      },
      "source": [
        "(b)\n",
        "\n",
        "It is One-to-One.\n",
        "\n",
        "It is Onto.\n",
        "\n",
        "It is Bijective"
      ]
    },
    {
      "cell_type": "markdown",
      "metadata": {
        "id": "p21uHH-Iqm4z"
      },
      "source": [
        "(c) inverse function \n",
        "$$\n",
        "f^{-1}(x) = e\\sqrt{\\frac{π}{2}}x\n",
        "$$"
      ]
    },
    {
      "cell_type": "code",
      "metadata": {
        "id": "ND0dnIUwqqO6"
      },
      "source": [
        "def infun(x):\n",
        "  return (np.e*math.sqrt(math.pi/2)*x)"
      ],
      "execution_count": 39,
      "outputs": []
    },
    {
      "cell_type": "markdown",
      "metadata": {
        "id": "-trdtkScxor-"
      },
      "source": [
        "testing again"
      ]
    },
    {
      "cell_type": "code",
      "metadata": {
        "id": "HX3GtcsLu0Ap",
        "colab": {
          "base_uri": "https://localhost:8080/"
        },
        "outputId": "f0ae259f-43a2-4081-adf6-e59144b6a59d"
      },
      "source": [
        "infun(0)"
      ],
      "execution_count": 40,
      "outputs": [
        {
          "output_type": "execute_result",
          "data": {
            "text/plain": [
              "0.0"
            ]
          },
          "metadata": {},
          "execution_count": 40
        }
      ]
    },
    {
      "cell_type": "code",
      "metadata": {
        "id": "9tNXjF-Uxe80",
        "colab": {
          "base_uri": "https://localhost:8080/"
        },
        "outputId": "c8469725-7c2b-4322-d4ca-58c162e91c70"
      },
      "source": [
        "infun(2.2507907903927658)"
      ],
      "execution_count": 41,
      "outputs": [
        {
          "output_type": "execute_result",
          "data": {
            "text/plain": [
              "7.668131463818712"
            ]
          },
          "metadata": {},
          "execution_count": 41
        }
      ]
    },
    {
      "cell_type": "code",
      "metadata": {
        "id": "Os-X-P-HxfX7",
        "colab": {
          "base_uri": "https://localhost:8080/"
        },
        "outputId": "0ae5e53c-41b7-41c2-bf17-cf9eae6d4bae"
      },
      "source": [
        "infun(4.5015815807855315)"
      ],
      "execution_count": 42,
      "outputs": [
        {
          "output_type": "execute_result",
          "data": {
            "text/plain": [
              "15.336262927637424"
            ]
          },
          "metadata": {},
          "execution_count": 42
        }
      ]
    },
    {
      "cell_type": "markdown",
      "metadata": {
        "id": "u5Pwj-wsxzbe"
      },
      "source": [
        "(d) Plotting"
      ]
    },
    {
      "cell_type": "code",
      "metadata": {
        "id": "1fk9v4-yx2ie",
        "colab": {
          "base_uri": "https://localhost:8080/",
          "height": 0
        },
        "outputId": "a2790f80-259a-4822-d04d-d50b0c2c4b99"
      },
      "source": [
        "import matplotlib.pyplot as plt\n",
        "\n",
        "x = np.arange(0,10,.25)\n",
        "\n",
        "plt.xlim(0,10)\n",
        "plt.ylim(0,10)\n",
        "\n",
        "plt.plot(x,fun(x))\n",
        "plt.plot(x,infun(x))\n",
        "plt.plot(x,x)"
      ],
      "execution_count": 43,
      "outputs": [
        {
          "output_type": "execute_result",
          "data": {
            "text/plain": [
              "[<matplotlib.lines.Line2D at 0x7f5b03465e10>]"
            ]
          },
          "metadata": {},
          "execution_count": 43
        },
        {
          "output_type": "display_data",
          "data": {
            "image/png": "[encoded data removed]",
            "text/plain": [
              "<Figure size 432x288 with 1 Axes>"
            ]
          },
          "metadata": {
            "needs_background": "light"
          }
        }
      ]
    },
    {
      "cell_type": "markdown",
      "metadata": {
        "id": "wpSF4sHqA29Y"
      },
      "source": [
        "# 3 Dictionaries"
      ]
    },
    {
      "cell_type": "markdown",
      "metadata": {
        "id": "71r5QW9uBDw9"
      },
      "source": [
        "(a) I have created a dictionary between set A and B from the first section."
      ]
    },
    {
      "cell_type": "code",
      "metadata": {
        "id": "TFfFBzwV5p0w",
        "outputId": "b8fbf275-2fad-4ea1-e307-738bb7e096ae",
        "colab": {
          "base_uri": "https://localhost:8080/"
        }
      },
      "source": [
        "dictionary = dict({a:b for a,b in zip(A, B)})\n",
        "dictionary"
      ],
      "execution_count": 44,
      "outputs": [
        {
          "output_type": "execute_result",
          "data": {
            "text/plain": [
              "{'Allosaurus': 'Spinosaurus',\n",
              " 'T-Rex': 'Stegosaurus',\n",
              " 'Therizinosaurus': 'Stygimoloch',\n",
              " 'Titanosaurus': 'Styracosuarus',\n",
              " 'Triceratops': 'Suchomimus',\n",
              " 'Troodon': 'T-Rex'}"
            ]
          },
          "metadata": {},
          "execution_count": 44
        }
      ]
    },
    {
      "cell_type": "markdown",
      "metadata": {
        "id": "LxqsyRSo6LFf"
      },
      "source": [
        "(b) This dictionary is a function. This function is one-to-one but not onto so it is not bijective.\n",
        "\n",
        "(c) The relation is not symmetric since the allo goes to the spino but not back. It is not reflexive since rex does not go to rex. It is transitive."
      ]
    },
    {
      "cell_type": "markdown",
      "metadata": {
        "id": "DJO8jBLO8psj"
      },
      "source": [
        "(d)"
      ]
    },
    {
      "cell_type": "code",
      "metadata": {
        "id": "AD1TylHx75F0",
        "outputId": "25b40a10-840f-469d-e5b4-c1e9dd3062a8",
        "colab": {
          "base_uri": "https://localhost:8080/"
        }
      },
      "source": [
        "dictionary2 = dict({a:b for a,b in zip(dictionary, C)})\n",
        "dictionary2"
      ],
      "execution_count": 45,
      "outputs": [
        {
          "output_type": "execute_result",
          "data": {
            "text/plain": [
              "{'Allosaurus': 'Acrocanthosaurus',\n",
              " 'T-Rex': 'Allosaurus',\n",
              " 'Therizinosaurus': 'Ankylosaurus',\n",
              " 'Titanosaurus': 'Apatosaurus',\n",
              " 'Triceratops': 'Archaeopteryx',\n",
              " 'Troodon': 'Stegosaurus'}"
            ]
          },
          "metadata": {},
          "execution_count": 45
        }
      ]
    },
    {
      "cell_type": "markdown",
      "metadata": {
        "id": "AlRAqPCL8zho"
      },
      "source": [
        "# 4 Comments"
      ]
    },
    {
      "cell_type": "markdown",
      "metadata": {
        "id": "zZBvRl7s86zT"
      },
      "source": [
        "(a) I found that the longer I worked on this project the easier it got. I also found that there are many different ways to do the same thing.\n",
        "\n",
        "(b) N/A\n",
        "\n",
        "(c) I didn't get an inverse problem through code, instead I hard coded it into the code.The graph of my function took a while to get working. I found it easier to change my function to get the graph to work the best. I plotted them using the plot library from 0 to 10 on both axis"
      ]
    }
  ]
}