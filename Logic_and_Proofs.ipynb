{
  "nbformat": 4,
  "nbformat_minor": 0,
  "metadata": {
    "colab": {
      "name": "Logic and Proofs.ipynb",
      "provenance": [],
      "collapsed_sections": [],
      "authorship_tag": "ABX9TyNZMpx3MxpC28u2RYxyGm5O",
      "include_colab_link": true
    },
    "kernelspec": {
      "name": "python3",
      "display_name": "Python 3"
    },
    "language_info": {
      "name": "python"
    }
  },
  "cells": [
    {
      "cell_type": "markdown",
      "metadata": {
        "id": "view-in-github",
        "colab_type": "text"
      },
      "source": [
        "<a href=\"https://colab.research.google.com/github/JDestroyer5/Discrete_Mathmatics/blob/main/Logic_and_Proofs.ipynb\" target=\"_parent\"><img src=\"https://colab.research.google.com/assets/colab-badge.svg\" alt=\"Open In Colab\"/></a>"
      ]
    },
    {
      "cell_type": "markdown",
      "source": [
        "# Project Part #4: CPSMA 3913 Dr. Jacob's Discrete Mathematics\n",
        "## Logic and Proof\n",
        "### Joshua Myers: 252405"
      ],
      "metadata": {
        "id": "Gbq1O9rcx0Cd"
      }
    },
    {
      "cell_type": "markdown",
      "source": [
        "##Logic"
      ],
      "metadata": {
        "id": "ybgCRoeyyrV2"
      }
    },
    {
      "cell_type": "code",
      "source": [
        "import pandas as pd\n",
        "import operator"
      ],
      "metadata": {
        "id": "TcF5CsJVzuF-"
      },
      "execution_count": 40,
      "outputs": []
    },
    {
      "cell_type": "markdown",
      "source": [
        "To start we need three propositions. I will be using things that I will do over the weekend. PlayVideoGames(P), DoHomework(H), and VisitFamily(F)"
      ],
      "metadata": {
        "id": "6pyhm6b2yvAQ"
      }
    },
    {
      "cell_type": "code",
      "source": [
        "P = True\n",
        "H = False\n",
        "F = True"
      ],
      "metadata": {
        "id": "sybWv3G9yt3U"
      },
      "execution_count": 41,
      "outputs": []
    },
    {
      "cell_type": "markdown",
      "source": [
        "Now we compute some truth statements about these."
      ],
      "metadata": {
        "id": "THVrY7yC18AZ"
      }
    },
    {
      "cell_type": "markdown",
      "source": [
        "$$ \\lnot H $$"
      ],
      "metadata": {
        "id": "gnODtBUZ2KXv"
      }
    },
    {
      "cell_type": "code",
      "execution_count": 42,
      "metadata": {
        "colab": {
          "base_uri": "https://localhost:8080/"
        },
        "id": "1VAu9D6DUjPr",
        "outputId": "6d54a1f4-1d77-41ea-c60e-2c8c512ce255"
      },
      "outputs": [
        {
          "output_type": "execute_result",
          "data": {
            "text/plain": [
              "True"
            ]
          },
          "metadata": {},
          "execution_count": 42
        }
      ],
      "source": [
        "not(H)"
      ]
    },
    {
      "cell_type": "markdown",
      "source": [
        "$$ P \\land F $$"
      ],
      "metadata": {
        "id": "Ns7GZIvs2rwu"
      }
    },
    {
      "cell_type": "code",
      "source": [
        "(P)and(F)"
      ],
      "metadata": {
        "colab": {
          "base_uri": "https://localhost:8080/"
        },
        "id": "ArRpObzf25WU",
        "outputId": "3a403ed3-a2f0-47a3-ed62-15214babb8a2"
      },
      "execution_count": 43,
      "outputs": [
        {
          "output_type": "execute_result",
          "data": {
            "text/plain": [
              "True"
            ]
          },
          "metadata": {},
          "execution_count": 43
        }
      ]
    },
    {
      "cell_type": "markdown",
      "source": [
        "$$ P \\lor H $$"
      ],
      "metadata": {
        "id": "aP3mJtpO3QlA"
      }
    },
    {
      "cell_type": "code",
      "source": [
        "(P)or(H)"
      ],
      "metadata": {
        "colab": {
          "base_uri": "https://localhost:8080/"
        },
        "id": "2EPbnQ2w3YDL",
        "outputId": "722233b9-9fff-4251-d105-ee2959253322"
      },
      "execution_count": 44,
      "outputs": [
        {
          "output_type": "execute_result",
          "data": {
            "text/plain": [
              "True"
            ]
          },
          "metadata": {},
          "execution_count": 44
        }
      ]
    },
    {
      "cell_type": "markdown",
      "source": [
        "$$ P \\Rightarrow F $$"
      ],
      "metadata": {
        "id": "c36Hytap3eVV"
      }
    },
    {
      "cell_type": "markdown",
      "source": [
        "I am unable to do this one like this so I will use it's equivalent $ \\lnot P \\lor F $ and create a function to do it."
      ],
      "metadata": {
        "id": "j2g24IjV3qic"
      }
    },
    {
      "cell_type": "code",
      "source": [
        "def implies(a,b):\n",
        "  return not(a)or(b)\n",
        "\n",
        "implies(P,F)"
      ],
      "metadata": {
        "colab": {
          "base_uri": "https://localhost:8080/"
        },
        "id": "pAvG382N3nei",
        "outputId": "ced2bd61-9db4-48e7-84e3-4e8d66b3eb17"
      },
      "execution_count": 45,
      "outputs": [
        {
          "output_type": "execute_result",
          "data": {
            "text/plain": [
              "True"
            ]
          },
          "metadata": {},
          "execution_count": 45
        }
      ]
    },
    {
      "cell_type": "markdown",
      "source": [
        "Now to create a table showing all the truth statements shown and more."
      ],
      "metadata": {
        "id": "q1Mhdimm42_Q"
      }
    },
    {
      "cell_type": "code",
      "metadata": {
        "colab": {
          "base_uri": "https://localhost:8080/",
          "height": 297
        },
        "id": "L9NIgmveH5d0",
        "outputId": "b87ca5fb-e1ef-4ad7-871c-7bc4d1df56fe"
      },
      "source": [
        "\n",
        "values = [True,False]\n",
        "TruthTable=[]\n",
        "for F in values:\n",
        "  for P in values:\n",
        "    for H in values: \n",
        "      row =[]\n",
        "      row.append(F)\n",
        "      row.append(P)\n",
        "      row.append(H)\n",
        "      row.append(not(F))\n",
        "      row.append(not (F) or P)\n",
        "      row.append(P and H)\n",
        "      row.append(P or H)\n",
        "      row.append(implies(not(F) or P,P and H))\n",
        "      row.append(operator.xor(F,P))\n",
        "      row.append(not (operator.xor(F,P)))\n",
        "      row.append(implies(not(operator.xor(F,P)), P or H))\n",
        "      TruthTable.append(row)\n",
        "Ttable = pd.DataFrame(TruthTable,columns = ['F','P','H','¬F','¬F∨P','P∧H', 'P∨H','¬F∨P⇒P∧H', 'F ⊕ P','¬(F ⊕ P)', '¬(F ⊕ P)⇒(P∨H)'] )\n",
        "Ttable"
      ],
      "execution_count": 47,
      "outputs": [
        {
          "output_type": "execute_result",
          "data": {
            "text/html": [
              "<div>\n",
              "<style scoped>\n",
              "    .dataframe tbody tr th:only-of-type {\n",
              "        vertical-align: middle;\n",
              "    }\n",
              "\n",
              "    .dataframe tbody tr th {\n",
              "        vertical-align: top;\n",
              "    }\n",
              "\n",
              "    .dataframe thead th {\n",
              "        text-align: right;\n",
              "    }\n",
              "</style>\n",
              "<table border=\"1\" class=\"dataframe\">\n",
              "  <thead>\n",
              "    <tr style=\"text-align: right;\">\n",
              "      <th></th>\n",
              "      <th>F</th>\n",
              "      <th>P</th>\n",
              "      <th>H</th>\n",
              "      <th>¬F</th>\n",
              "      <th>¬F∨P</th>\n",
              "      <th>P∧H</th>\n",
              "      <th>P∨H</th>\n",
              "      <th>¬F∨P⇒P∧H</th>\n",
              "      <th>F ⊕ P</th>\n",
              "      <th>¬(F ⊕ P)</th>\n",
              "      <th>¬(F ⊕ P)⇒(P∨H)</th>\n",
              "    </tr>\n",
              "  </thead>\n",
              "  <tbody>\n",
              "    <tr>\n",
              "      <th>0</th>\n",
              "      <td>True</td>\n",
              "      <td>True</td>\n",
              "      <td>True</td>\n",
              "      <td>False</td>\n",
              "      <td>True</td>\n",
              "      <td>True</td>\n",
              "      <td>True</td>\n",
              "      <td>True</td>\n",
              "      <td>False</td>\n",
              "      <td>True</td>\n",
              "      <td>True</td>\n",
              "    </tr>\n",
              "    <tr>\n",
              "      <th>1</th>\n",
              "      <td>True</td>\n",
              "      <td>True</td>\n",
              "      <td>False</td>\n",
              "      <td>False</td>\n",
              "      <td>True</td>\n",
              "      <td>False</td>\n",
              "      <td>True</td>\n",
              "      <td>False</td>\n",
              "      <td>False</td>\n",
              "      <td>True</td>\n",
              "      <td>True</td>\n",
              "    </tr>\n",
              "    <tr>\n",
              "      <th>2</th>\n",
              "      <td>True</td>\n",
              "      <td>False</td>\n",
              "      <td>True</td>\n",
              "      <td>False</td>\n",
              "      <td>False</td>\n",
              "      <td>False</td>\n",
              "      <td>True</td>\n",
              "      <td>True</td>\n",
              "      <td>True</td>\n",
              "      <td>False</td>\n",
              "      <td>True</td>\n",
              "    </tr>\n",
              "    <tr>\n",
              "      <th>3</th>\n",
              "      <td>True</td>\n",
              "      <td>False</td>\n",
              "      <td>False</td>\n",
              "      <td>False</td>\n",
              "      <td>False</td>\n",
              "      <td>False</td>\n",
              "      <td>False</td>\n",
              "      <td>True</td>\n",
              "      <td>True</td>\n",
              "      <td>False</td>\n",
              "      <td>True</td>\n",
              "    </tr>\n",
              "    <tr>\n",
              "      <th>4</th>\n",
              "      <td>False</td>\n",
              "      <td>True</td>\n",
              "      <td>True</td>\n",
              "      <td>True</td>\n",
              "      <td>True</td>\n",
              "      <td>True</td>\n",
              "      <td>True</td>\n",
              "      <td>True</td>\n",
              "      <td>True</td>\n",
              "      <td>False</td>\n",
              "      <td>True</td>\n",
              "    </tr>\n",
              "    <tr>\n",
              "      <th>5</th>\n",
              "      <td>False</td>\n",
              "      <td>True</td>\n",
              "      <td>False</td>\n",
              "      <td>True</td>\n",
              "      <td>True</td>\n",
              "      <td>False</td>\n",
              "      <td>True</td>\n",
              "      <td>False</td>\n",
              "      <td>True</td>\n",
              "      <td>False</td>\n",
              "      <td>True</td>\n",
              "    </tr>\n",
              "    <tr>\n",
              "      <th>6</th>\n",
              "      <td>False</td>\n",
              "      <td>False</td>\n",
              "      <td>True</td>\n",
              "      <td>True</td>\n",
              "      <td>True</td>\n",
              "      <td>False</td>\n",
              "      <td>True</td>\n",
              "      <td>False</td>\n",
              "      <td>False</td>\n",
              "      <td>True</td>\n",
              "      <td>True</td>\n",
              "    </tr>\n",
              "    <tr>\n",
              "      <th>7</th>\n",
              "      <td>False</td>\n",
              "      <td>False</td>\n",
              "      <td>False</td>\n",
              "      <td>True</td>\n",
              "      <td>True</td>\n",
              "      <td>False</td>\n",
              "      <td>False</td>\n",
              "      <td>False</td>\n",
              "      <td>False</td>\n",
              "      <td>True</td>\n",
              "      <td>False</td>\n",
              "    </tr>\n",
              "  </tbody>\n",
              "</table>\n",
              "</div>"
            ],
            "text/plain": [
              "       F      P      H     ¬F  ...  ¬F∨P⇒P∧H  F ⊕ P  ¬(F ⊕ P)  ¬(F ⊕ P)⇒(P∨H)\n",
              "0   True   True   True  False  ...      True  False      True            True\n",
              "1   True   True  False  False  ...     False  False      True            True\n",
              "2   True  False   True  False  ...      True   True     False            True\n",
              "3   True  False  False  False  ...      True   True     False            True\n",
              "4  False   True   True   True  ...      True   True     False            True\n",
              "5  False   True  False   True  ...     False   True     False            True\n",
              "6  False  False   True   True  ...     False  False      True            True\n",
              "7  False  False  False   True  ...     False  False      True           False\n",
              "\n",
              "[8 rows x 11 columns]"
            ]
          },
          "metadata": {},
          "execution_count": 47
        }
      ]
    },
    {
      "cell_type": "markdown",
      "source": [
        "## Proof"
      ],
      "metadata": {
        "id": "xg4BKG4g7kOU"
      }
    },
    {
      "cell_type": "markdown",
      "source": [
        "I am going to prove that (0,5) is the y-intercept of y=2x+5"
      ],
      "metadata": {
        "id": "8tqOVs8F7wjJ"
      }
    },
    {
      "cell_type": "markdown",
      "source": [
        "First I will graph the equation"
      ],
      "metadata": {
        "id": "cLeyY8b-8D_Q"
      }
    },
    {
      "cell_type": "code",
      "source": [
        "import matplotlib.pyplot as plt\n",
        "import numpy as np\n",
        "\n",
        "x = np.arange(-6,10)\n",
        "plt.grid()\n",
        "plt.plot(x,2*x+5)\n",
        "plt.scatter(0,5,c='red',s=50)\n",
        "plt.show()"
      ],
      "metadata": {
        "colab": {
          "base_uri": "https://localhost:8080/",
          "height": 265
        },
        "id": "qx5Q-YDM8J6K",
        "outputId": "c6c6eaaf-7a55-41ad-f626-f871331c980f"
      },
      "execution_count": 53,
      "outputs": [
        {
          "output_type": "display_data",
          "data": {
            "image/png": "[encoded data removed]",
            "text/plain": [
              "<Figure size 432x288 with 1 Axes>"
            ]
          },
          "metadata": {
            "needs_background": "light"
          }
        }
      ]
    },
    {
      "cell_type": "markdown",
      "source": [
        "Now to prove it\n",
        "\n",
        "y = 2x+5, lets assume x = 0\n",
        "\n",
        "y = 2(0)+5\n",
        "\n",
        "y = 0 + 5\n",
        "\n",
        "y = 5\n",
        "\n",
        "thus x = 0 and y = 5, (0,5) is the y-intercept"
      ],
      "metadata": {
        "id": "a5dIVRWB9vxD"
      }
    },
    {
      "cell_type": "code",
      "source": [
        "5 == 2*0 + 5"
      ],
      "metadata": {
        "colab": {
          "base_uri": "https://localhost:8080/"
        },
        "id": "-zFKNR7r-dmJ",
        "outputId": "65de8fb1-7bbc-46bd-a83f-c90b7160d22f"
      },
      "execution_count": 54,
      "outputs": [
        {
          "output_type": "execute_result",
          "data": {
            "text/plain": [
              "True"
            ]
          },
          "metadata": {},
          "execution_count": 54
        }
      ]
    },
    {
      "cell_type": "markdown",
      "source": [
        "This completes the proof shoing that (0,5) is the y-intercept of the equation y=2x+5."
      ],
      "metadata": {
        "id": "WE0deSLd-p9-"
      }
    }
  ]
}